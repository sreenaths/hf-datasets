{
 "cells": [
  {
   "cell_type": "markdown",
   "id": "28c81d65-d60d-4992-a481-2805f60fcac0",
   "metadata": {},
   "source": [
    "# Million Text Embeddings\n",
    "\n",
    "A dataset with more than a million English sentences and their respective embeddings with the [all-mpnet-base-v2](https://huggingface.co/sentence-transformers/all-mpnet-base-v2) model.\\\n",
    "**Train Set:\t1,000,000**\\\n",
    "**Test Set:\t\t2,00,000**\\\n",
    "**Dimensions:\t768**\\\n",
    "**Source: [agentlans/high-quality-english-sentences](https://huggingface.co/datasets/agentlans/high-quality-english-sentences)**"
   ]
  },
  {
   "cell_type": "markdown",
   "id": "865f89b0-eb2f-463d-9841-7466df397416",
   "metadata": {},
   "source": [
    "### Load source dataset"
   ]
  },
  {
   "cell_type": "code",
   "execution_count": 1,
   "id": "322136e8-2020-4b3a-8ff7-d64f82db6ffd",
   "metadata": {},
   "outputs": [],
   "source": [
    "from datasets import load_dataset\n",
    "from langdetect import detect"
   ]
  },
  {
   "cell_type": "code",
   "execution_count": 2,
   "id": "feb7e506-74a8-484a-b8a4-0db780d5425a",
   "metadata": {},
   "outputs": [],
   "source": [
    "def filter_text(text: str) -> bool:    \n",
    "    if \"...\" in text:\n",
    "        return False\n",
    "    if len(text) > 350:\n",
    "        return False\n",
    "    try:\n",
    "        if detect(text) != 'en':\n",
    "            return False\n",
    "    except:\n",
    "        return False\n",
    "\n",
    "    return True"
   ]
  },
  {
   "cell_type": "code",
   "execution_count": 3,
   "id": "a2fd3ff0-c5a0-4ebf-882e-e83c98cb315c",
   "metadata": {},
   "outputs": [
    {
     "name": "stdout",
     "output_type": "stream",
     "text": [
      "['Soon we dropped into a living forest, where cold-tolerant evergreens and boreal animals still evoke the Canadian heritage of an ecosystem pushed south by glaciers 20,000 years ago.', 'Annual population growth rate (2011 est., CIA World Factbook): 1.284%.', 'This has led to the recent banning of Neonics in the EU, however the US and Canada are still using this chemical pesticide.', \"In addition, these colors weren't confined to a province but rather irregularly scattered across various regions over all of China.\", 'A family member or a support person may stay with a patient during recovery.']\n"
     ]
    },
    {
     "data": {
      "text/plain": [
       "(1672314, 1000000, 200000)"
      ]
     },
     "execution_count": 3,
     "metadata": {},
     "output_type": "execute_result"
    }
   ],
   "source": [
    "dataset = load_dataset(\"agentlans/high-quality-english-sentences\")\n",
    "texts = dataset[\"train\"][\"text\"] + dataset[\"test\"][\"text\"]\n",
    "texts = list(filter(filter_text, texts))\n",
    "\n",
    "train_texts = texts[:1_000_000]\n",
    "test_texts = texts[1_000_000:1_200_000]\n",
    "\n",
    "print(texts[:5])\n",
    "\n",
    "len(texts), len(train_texts), len(test_texts)"
   ]
  },
  {
   "cell_type": "markdown",
   "id": "f8bb4f6b-0fa7-4bec-b2e5-1659ad22e32b",
   "metadata": {},
   "source": [
    "### Compute embedding vectors"
   ]
  },
  {
   "cell_type": "code",
   "execution_count": 4,
   "id": "1927435f-c6c6-4e19-acb2-6ad0d1c38294",
   "metadata": {},
   "outputs": [],
   "source": [
    "from sentence_transformers import SentenceTransformer"
   ]
  },
  {
   "cell_type": "code",
   "execution_count": 5,
   "id": "5b9d284d-f185-4aba-8d93-21905e6535ae",
   "metadata": {},
   "outputs": [
    {
     "data": {
      "application/vnd.jupyter.widget-view+json": {
       "model_id": "74234b8a756a4934ac9dabe176ba10d9",
       "version_major": 2,
       "version_minor": 0
      },
      "text/plain": [
       "Batches:   0%|          | 0/31250 [00:00<?, ?it/s]"
      ]
     },
     "metadata": {},
     "output_type": "display_data"
    },
    {
     "data": {
      "application/vnd.jupyter.widget-view+json": {
       "model_id": "7f005400febd4d7586fd19aa6bd6eb50",
       "version_major": 2,
       "version_minor": 0
      },
      "text/plain": [
       "Batches:   0%|          | 0/6250 [00:00<?, ?it/s]"
      ]
     },
     "metadata": {},
     "output_type": "display_data"
    },
    {
     "data": {
      "text/plain": [
       "(1000000, 200000)"
      ]
     },
     "execution_count": 5,
     "metadata": {},
     "output_type": "execute_result"
    }
   ],
   "source": [
    "model = SentenceTransformer(\"all-mpnet-base-v2\")\n",
    "\n",
    "train_embeddings = model.encode(train_texts, show_progress_bar=True)\n",
    "test_embeddings = model.encode(test_texts, show_progress_bar=True)\n",
    "\n",
    "len(train_embeddings), len(test_embeddings)"
   ]
  },
  {
   "cell_type": "markdown",
   "id": "9804b306-8de6-4cc1-8996-566f1f64bdcc",
   "metadata": {},
   "source": [
    "### Create Dataset object and push to HuggingFace"
   ]
  },
  {
   "cell_type": "code",
   "execution_count": 6,
   "id": "468a084b-7c3a-4771-92fb-7ff56c2e4af5",
   "metadata": {},
   "outputs": [],
   "source": [
    "from datasets import Dataset"
   ]
  },
  {
   "cell_type": "code",
   "execution_count": 7,
   "id": "ce15f6d8-b910-4af0-8699-4b7d872f7b0b",
   "metadata": {},
   "outputs": [
    {
     "data": {
      "application/vnd.jupyter.widget-view+json": {
       "model_id": "3cad969cb6664b9b9c85f31c77ca2a76",
       "version_major": 2,
       "version_minor": 0
      },
      "text/plain": [
       "Uploading the dataset shards:   0%|          | 0/7 [00:00<?, ?it/s]"
      ]
     },
     "metadata": {},
     "output_type": "display_data"
    },
    {
     "data": {
      "application/vnd.jupyter.widget-view+json": {
       "model_id": "db539a678a2340088357cfeb8b0bfecf",
       "version_major": 2,
       "version_minor": 0
      },
      "text/plain": [
       "Creating parquet from Arrow format:   0%|          | 0/143 [00:00<?, ?ba/s]"
      ]
     },
     "metadata": {},
     "output_type": "display_data"
    },
    {
     "data": {
      "application/vnd.jupyter.widget-view+json": {
       "model_id": "a13b86256e7048a29ab6eee354c25c05",
       "version_major": 2,
       "version_minor": 0
      },
      "text/plain": [
       "Creating parquet from Arrow format:   0%|          | 0/143 [00:00<?, ?ba/s]"
      ]
     },
     "metadata": {},
     "output_type": "display_data"
    },
    {
     "data": {
      "application/vnd.jupyter.widget-view+json": {
       "model_id": "d205a9682b144374886efb220860c99e",
       "version_major": 2,
       "version_minor": 0
      },
      "text/plain": [
       "Creating parquet from Arrow format:   0%|          | 0/143 [00:00<?, ?ba/s]"
      ]
     },
     "metadata": {},
     "output_type": "display_data"
    },
    {
     "data": {
      "application/vnd.jupyter.widget-view+json": {
       "model_id": "e1a6256629a840cfa1afb20e2b4643cd",
       "version_major": 2,
       "version_minor": 0
      },
      "text/plain": [
       "Creating parquet from Arrow format:   0%|          | 0/143 [00:00<?, ?ba/s]"
      ]
     },
     "metadata": {},
     "output_type": "display_data"
    },
    {
     "data": {
      "application/vnd.jupyter.widget-view+json": {
       "model_id": "6e0ad02805074e45ae93623d44609693",
       "version_major": 2,
       "version_minor": 0
      },
      "text/plain": [
       "Creating parquet from Arrow format:   0%|          | 0/143 [00:00<?, ?ba/s]"
      ]
     },
     "metadata": {},
     "output_type": "display_data"
    },
    {
     "data": {
      "application/vnd.jupyter.widget-view+json": {
       "model_id": "6f7ab2a862cf4527a840518076afbcfd",
       "version_major": 2,
       "version_minor": 0
      },
      "text/plain": [
       "Creating parquet from Arrow format:   0%|          | 0/143 [00:00<?, ?ba/s]"
      ]
     },
     "metadata": {},
     "output_type": "display_data"
    },
    {
     "data": {
      "application/vnd.jupyter.widget-view+json": {
       "model_id": "02ec4fd1a71e4ef89c5bcd18b338d30a",
       "version_major": 2,
       "version_minor": 0
      },
      "text/plain": [
       "Creating parquet from Arrow format:   0%|          | 0/143 [00:00<?, ?ba/s]"
      ]
     },
     "metadata": {},
     "output_type": "display_data"
    },
    {
     "data": {
      "application/vnd.jupyter.widget-view+json": {
       "model_id": "156704f91565451caffd003cfb5ed330",
       "version_major": 2,
       "version_minor": 0
      },
      "text/plain": [
       "Uploading the dataset shards:   0%|          | 0/2 [00:00<?, ?it/s]"
      ]
     },
     "metadata": {},
     "output_type": "display_data"
    },
    {
     "data": {
      "application/vnd.jupyter.widget-view+json": {
       "model_id": "aa6d1a2a7542454aa660c8a2bd884294",
       "version_major": 2,
       "version_minor": 0
      },
      "text/plain": [
       "Creating parquet from Arrow format:   0%|          | 0/100 [00:00<?, ?ba/s]"
      ]
     },
     "metadata": {},
     "output_type": "display_data"
    },
    {
     "data": {
      "application/vnd.jupyter.widget-view+json": {
       "model_id": "de1da9f94abb49d0b32baa97ef2093ca",
       "version_major": 2,
       "version_minor": 0
      },
      "text/plain": [
       "Creating parquet from Arrow format:   0%|          | 0/100 [00:00<?, ?ba/s]"
      ]
     },
     "metadata": {},
     "output_type": "display_data"
    },
    {
     "data": {
      "application/vnd.jupyter.widget-view+json": {
       "model_id": "284df08a98d54cc8aec6110ba3693707",
       "version_major": 2,
       "version_minor": 0
      },
      "text/plain": [
       "README.md:   0%|          | 0.00/997 [00:00<?, ?B/s]"
      ]
     },
     "metadata": {},
     "output_type": "display_data"
    },
    {
     "data": {
      "text/plain": [
       "CommitInfo(commit_url='https://huggingface.co/datasets/Sreenath/million-text-embeddings/commit/7dc0f8da10ccb79d1104e7902b831c19e5275384', commit_message='Upload dataset', commit_description='', oid='7dc0f8da10ccb79d1104e7902b831c19e5275384', pr_url=None, repo_url=RepoUrl('https://huggingface.co/datasets/Sreenath/million-text-embeddings', endpoint='https://huggingface.co', repo_type='dataset', repo_id='Sreenath/million-text-embeddings'), pr_revision=None, pr_num=None)"
      ]
     },
     "execution_count": 7,
     "metadata": {},
     "output_type": "execute_result"
    }
   ],
   "source": [
    "train_data = {\"text\": train_texts, \"embedding\": train_embeddings}\n",
    "train_dataset = Dataset.from_dict(train_data)\n",
    "train_dataset.push_to_hub(\"Sreenath/million-text-embeddings\", split=\"train\")\n",
    "\n",
    "test_data = {\"text\": test_texts, \"embedding\": test_embeddings}\n",
    "test_dataset = Dataset.from_dict(test_data)\n",
    "test_dataset.push_to_hub(\"Sreenath/million-text-embeddings\", split=\"test\")"
   ]
  }
 ],
 "metadata": {
  "kernelspec": {
   "display_name": "Python 3 (ipykernel)",
   "language": "python",
   "name": "python3"
  },
  "language_info": {
   "codemirror_mode": {
    "name": "ipython",
    "version": 3
   },
   "file_extension": ".py",
   "mimetype": "text/x-python",
   "name": "python",
   "nbconvert_exporter": "python",
   "pygments_lexer": "ipython3",
   "version": "3.12.7"
  }
 },
 "nbformat": 4,
 "nbformat_minor": 5
}
