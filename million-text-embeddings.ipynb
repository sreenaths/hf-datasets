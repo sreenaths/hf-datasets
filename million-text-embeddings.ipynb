{
 "cells": [
  {
   "cell_type": "markdown",
   "id": "28c81d65-d60d-4992-a481-2805f60fcac0",
   "metadata": {},
   "source": [
    "# Million Text Embeddings\n",
    "\n",
    "A dataset with more than a million English sentences and their respective embeddings with the [all-mpnet-base-v2](https://huggingface.co/sentence-transformers/all-mpnet-base-v2) model.\\\n",
    "**Train Set:\t1,000,000**\\\n",
    "**Test Set:\t\t2,00,000**\\\n",
    "**Dimensions:\t768**\\\n",
    "**Source: [sentence-transformers/agnews](https://huggingface.co/datasets/sentence-transformers/agnews)**"
   ]
  },
  {
   "cell_type": "markdown",
   "id": "865f89b0-eb2f-463d-9841-7466df397416",
   "metadata": {},
   "source": [
    "### Load source dataset"
   ]
  },
  {
   "cell_type": "code",
   "execution_count": 1,
   "id": "322136e8-2020-4b3a-8ff7-d64f82db6ffd",
   "metadata": {},
   "outputs": [],
   "source": [
    "from datasets import load_dataset"
   ]
  },
  {
   "cell_type": "code",
   "execution_count": 2,
   "id": "a2fd3ff0-c5a0-4ebf-882e-e83c98cb315c",
   "metadata": {},
   "outputs": [
    {
     "data": {
      "text/plain": [
       "(1000000, 200000)"
      ]
     },
     "execution_count": 2,
     "metadata": {},
     "output_type": "execute_result"
    }
   ],
   "source": [
    "dataset = load_dataset(\"sentence-transformers/agnews\")[\"train\"]\n",
    "\n",
    "texts = []\n",
    "for row in dataset:\n",
    "    texts.append(row['title'])\n",
    "    texts.append(row['description'])\n",
    "texts = filter(lambda t: len(t) <= 350, texts)\n",
    "texts = list(set(texts))\n",
    "\n",
    "train_texts = texts[:1_000_000]\n",
    "test_texts = texts[1_000_000:1_200_000]\n",
    "\n",
    "len(train_texts), len(test_texts)"
   ]
  },
  {
   "cell_type": "markdown",
   "id": "f8bb4f6b-0fa7-4bec-b2e5-1659ad22e32b",
   "metadata": {},
   "source": [
    "### Compute embedding vectors"
   ]
  },
  {
   "cell_type": "code",
   "execution_count": 3,
   "id": "1927435f-c6c6-4e19-acb2-6ad0d1c38294",
   "metadata": {},
   "outputs": [],
   "source": [
    "from sentence_transformers import SentenceTransformer"
   ]
  },
  {
   "cell_type": "code",
   "execution_count": 4,
   "id": "5b9d284d-f185-4aba-8d93-21905e6535ae",
   "metadata": {},
   "outputs": [
    {
     "data": {
      "application/vnd.jupyter.widget-view+json": {
       "model_id": "d6644569ae1e4151af466a90d1f7c19e",
       "version_major": 2,
       "version_minor": 0
      },
      "text/plain": [
       "Batches:   0%|          | 0/31250 [00:00<?, ?it/s]"
      ]
     },
     "metadata": {},
     "output_type": "display_data"
    },
    {
     "data": {
      "application/vnd.jupyter.widget-view+json": {
       "model_id": "bfe1366437844f0099a10107773cd606",
       "version_major": 2,
       "version_minor": 0
      },
      "text/plain": [
       "Batches:   0%|          | 0/6250 [00:00<?, ?it/s]"
      ]
     },
     "metadata": {},
     "output_type": "display_data"
    },
    {
     "data": {
      "text/plain": [
       "(1000000, 200000)"
      ]
     },
     "execution_count": 4,
     "metadata": {},
     "output_type": "execute_result"
    }
   ],
   "source": [
    "model = SentenceTransformer(\"all-mpnet-base-v2\")\n",
    "\n",
    "train_embeddings = model.encode(train_texts, show_progress_bar=True)\n",
    "test_embeddings = model.encode(test_texts, show_progress_bar=True)\n",
    "\n",
    "len(train_embeddings), len(test_embeddings)"
   ]
  },
  {
   "cell_type": "markdown",
   "id": "9804b306-8de6-4cc1-8996-566f1f64bdcc",
   "metadata": {},
   "source": [
    "### Create Dataset object and push to HuggingFace"
   ]
  },
  {
   "cell_type": "code",
   "execution_count": 5,
   "id": "468a084b-7c3a-4771-92fb-7ff56c2e4af5",
   "metadata": {},
   "outputs": [],
   "source": [
    "from datasets import Dataset"
   ]
  },
  {
   "cell_type": "code",
   "execution_count": null,
   "id": "ce15f6d8-b910-4af0-8699-4b7d872f7b0b",
   "metadata": {},
   "outputs": [
    {
     "data": {
      "application/vnd.jupyter.widget-view+json": {
       "model_id": "dd7251fe13f049b7bd31f1bee79507c3",
       "version_major": 2,
       "version_minor": 0
      },
      "text/plain": [
       "Uploading the dataset shards:   0%|          | 0/7 [00:00<?, ?it/s]"
      ]
     },
     "metadata": {},
     "output_type": "display_data"
    },
    {
     "data": {
      "application/vnd.jupyter.widget-view+json": {
       "model_id": "e3460d6a0b4f4d61aa37e5ea41c11b2f",
       "version_major": 2,
       "version_minor": 0
      },
      "text/plain": [
       "Creating parquet from Arrow format:   0%|          | 0/143 [00:00<?, ?ba/s]"
      ]
     },
     "metadata": {},
     "output_type": "display_data"
    },
    {
     "data": {
      "application/vnd.jupyter.widget-view+json": {
       "model_id": "b7ee3d4c63a143e7b3a609841618db6f",
       "version_major": 2,
       "version_minor": 0
      },
      "text/plain": [
       "Creating parquet from Arrow format:   0%|          | 0/143 [00:00<?, ?ba/s]"
      ]
     },
     "metadata": {},
     "output_type": "display_data"
    },
    {
     "data": {
      "application/vnd.jupyter.widget-view+json": {
       "model_id": "e41ce9a88f0b439b867a568abdd2ab1f",
       "version_major": 2,
       "version_minor": 0
      },
      "text/plain": [
       "Creating parquet from Arrow format:   0%|          | 0/143 [00:00<?, ?ba/s]"
      ]
     },
     "metadata": {},
     "output_type": "display_data"
    },
    {
     "data": {
      "application/vnd.jupyter.widget-view+json": {
       "model_id": "175ea0a8c838410499270c6362d934bd",
       "version_major": 2,
       "version_minor": 0
      },
      "text/plain": [
       "Creating parquet from Arrow format:   0%|          | 0/143 [00:00<?, ?ba/s]"
      ]
     },
     "metadata": {},
     "output_type": "display_data"
    },
    {
     "data": {
      "application/vnd.jupyter.widget-view+json": {
       "model_id": "2cbd3a90b645473b81dc79baa3e316e1",
       "version_major": 2,
       "version_minor": 0
      },
      "text/plain": [
       "Creating parquet from Arrow format:   0%|          | 0/143 [00:00<?, ?ba/s]"
      ]
     },
     "metadata": {},
     "output_type": "display_data"
    }
   ],
   "source": [
    "train_data = {\"text\": train_texts, \"embedding\": train_embeddings}\n",
    "train_dataset = Dataset.from_dict(train_data)\n",
    "train_dataset.push_to_hub(\"Sreenath/million-text-embeddings\", split=\"train\")\n",
    "\n",
    "test_data = {\"text\": test_texts, \"embedding\": test_embeddings}\n",
    "test_dataset = Dataset.from_dict(test_data)\n",
    "test_dataset.push_to_hub(\"Sreenath/million-text-embeddings\", split=\"test\")"
   ]
  }
 ],
 "metadata": {
  "kernelspec": {
   "display_name": "Python 3 (ipykernel)",
   "language": "python",
   "name": "python3"
  },
  "language_info": {
   "codemirror_mode": {
    "name": "ipython",
    "version": 3
   },
   "file_extension": ".py",
   "mimetype": "text/x-python",
   "name": "python",
   "nbconvert_exporter": "python",
   "pygments_lexer": "ipython3",
   "version": "3.12.7"
  }
 },
 "nbformat": 4,
 "nbformat_minor": 5
}
