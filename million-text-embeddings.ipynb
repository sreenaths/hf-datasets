{
 "cells": [
  {
   "cell_type": "markdown",
   "id": "28c81d65-d60d-4992-a481-2805f60fcac0",
   "metadata": {},
   "source": [
    "# Million Text Embeddings\n",
    "\n",
    "A dataset with a million English sentences and their respective embeddings with the [all-mpnet-base-v2](https://huggingface.co/sentence-transformers/all-mpnet-base-v2) model.\\\n",
    "**Dimensions:\t768**\\\n",
    "**Source: [sentence-transformers/agnews](https://huggingface.co/datasets/sentence-transformers/agnews)**"
   ]
  },
  {
   "cell_type": "markdown",
   "id": "865f89b0-eb2f-463d-9841-7466df397416",
   "metadata": {},
   "source": [
    "### Load source dataset"
   ]
  },
  {
   "cell_type": "code",
   "execution_count": 1,
   "id": "322136e8-2020-4b3a-8ff7-d64f82db6ffd",
   "metadata": {},
   "outputs": [],
   "source": [
    "from datasets import load_dataset"
   ]
  },
  {
   "cell_type": "code",
   "execution_count": 2,
   "id": "a2fd3ff0-c5a0-4ebf-882e-e83c98cb315c",
   "metadata": {},
   "outputs": [
    {
     "data": {
      "text/plain": [
       "1000000"
      ]
     },
     "execution_count": 2,
     "metadata": {},
     "output_type": "execute_result"
    }
   ],
   "source": [
    "dataset = load_dataset(\"sentence-transformers/agnews\")[\"train\"]\n",
    "\n",
    "texts = []\n",
    "for row in dataset:\n",
    "    texts.append(row['title'])\n",
    "    texts.append(row['description'])\n",
    "    \n",
    "texts = filter(lambda t: len(t) <= 350, texts)\n",
    "texts = list(set(texts))[:1_000_000]\n",
    "len(texts)"
   ]
  },
  {
   "cell_type": "markdown",
   "id": "f8bb4f6b-0fa7-4bec-b2e5-1659ad22e32b",
   "metadata": {},
   "source": [
    "### Compute embedding vectors"
   ]
  },
  {
   "cell_type": "code",
   "execution_count": 3,
   "id": "1927435f-c6c6-4e19-acb2-6ad0d1c38294",
   "metadata": {},
   "outputs": [],
   "source": [
    "from sentence_transformers import SentenceTransformer"
   ]
  },
  {
   "cell_type": "code",
   "execution_count": 4,
   "id": "5b9d284d-f185-4aba-8d93-21905e6535ae",
   "metadata": {},
   "outputs": [
    {
     "data": {
      "application/vnd.jupyter.widget-view+json": {
       "model_id": "6356bdede7574940be56f38f0d224ce1",
       "version_major": 2,
       "version_minor": 0
      },
      "text/plain": [
       "Batches:   0%|          | 0/31250 [00:00<?, ?it/s]"
      ]
     },
     "metadata": {},
     "output_type": "display_data"
    },
    {
     "data": {
      "text/plain": [
       "1000000"
      ]
     },
     "execution_count": 4,
     "metadata": {},
     "output_type": "execute_result"
    }
   ],
   "source": [
    "model = SentenceTransformer(\"all-mpnet-base-v2\")\n",
    "embeddings = model.encode(texts, show_progress_bar=True)\n",
    "len(embeddings)"
   ]
  },
  {
   "cell_type": "markdown",
   "id": "9804b306-8de6-4cc1-8996-566f1f64bdcc",
   "metadata": {},
   "source": [
    "### Create Dataset object and push to HuggingFace"
   ]
  },
  {
   "cell_type": "code",
   "execution_count": 5,
   "id": "468a084b-7c3a-4771-92fb-7ff56c2e4af5",
   "metadata": {},
   "outputs": [],
   "source": [
    "from datasets import Dataset"
   ]
  },
  {
   "cell_type": "code",
   "execution_count": 6,
   "id": "ce15f6d8-b910-4af0-8699-4b7d872f7b0b",
   "metadata": {},
   "outputs": [
    {
     "data": {
      "application/vnd.jupyter.widget-view+json": {
       "model_id": "2b2c0b373c6d4dffb380fa532fb6687b",
       "version_major": 2,
       "version_minor": 0
      },
      "text/plain": [
       "Uploading the dataset shards:   0%|          | 0/7 [00:00<?, ?it/s]"
      ]
     },
     "metadata": {},
     "output_type": "display_data"
    },
    {
     "data": {
      "application/vnd.jupyter.widget-view+json": {
       "model_id": "17269f400bad46e4872e5e876ae7c924",
       "version_major": 2,
       "version_minor": 0
      },
      "text/plain": [
       "Creating parquet from Arrow format:   0%|          | 0/143 [00:00<?, ?ba/s]"
      ]
     },
     "metadata": {},
     "output_type": "display_data"
    },
    {
     "data": {
      "application/vnd.jupyter.widget-view+json": {
       "model_id": "3949a6995b4f4e4b9dfbbd615b8f6336",
       "version_major": 2,
       "version_minor": 0
      },
      "text/plain": [
       "Creating parquet from Arrow format:   0%|          | 0/143 [00:00<?, ?ba/s]"
      ]
     },
     "metadata": {},
     "output_type": "display_data"
    },
    {
     "data": {
      "application/vnd.jupyter.widget-view+json": {
       "model_id": "7ff76dc3aa244e0180eea8a56aaea6ef",
       "version_major": 2,
       "version_minor": 0
      },
      "text/plain": [
       "Creating parquet from Arrow format:   0%|          | 0/143 [00:00<?, ?ba/s]"
      ]
     },
     "metadata": {},
     "output_type": "display_data"
    },
    {
     "data": {
      "application/vnd.jupyter.widget-view+json": {
       "model_id": "ee952e5a19cb40e29145ad238bb5bb8b",
       "version_major": 2,
       "version_minor": 0
      },
      "text/plain": [
       "Creating parquet from Arrow format:   0%|          | 0/143 [00:00<?, ?ba/s]"
      ]
     },
     "metadata": {},
     "output_type": "display_data"
    },
    {
     "data": {
      "application/vnd.jupyter.widget-view+json": {
       "model_id": "727adb95268d45b4aca92125788a9140",
       "version_major": 2,
       "version_minor": 0
      },
      "text/plain": [
       "Creating parquet from Arrow format:   0%|          | 0/143 [00:00<?, ?ba/s]"
      ]
     },
     "metadata": {},
     "output_type": "display_data"
    },
    {
     "data": {
      "application/vnd.jupyter.widget-view+json": {
       "model_id": "4940178547654b5fba588c35939b19e5",
       "version_major": 2,
       "version_minor": 0
      },
      "text/plain": [
       "Creating parquet from Arrow format:   0%|          | 0/143 [00:00<?, ?ba/s]"
      ]
     },
     "metadata": {},
     "output_type": "display_data"
    },
    {
     "data": {
      "application/vnd.jupyter.widget-view+json": {
       "model_id": "e598e8e4de13429c835e12a9fdea2d9c",
       "version_major": 2,
       "version_minor": 0
      },
      "text/plain": [
       "Creating parquet from Arrow format:   0%|          | 0/143 [00:00<?, ?ba/s]"
      ]
     },
     "metadata": {},
     "output_type": "display_data"
    },
    {
     "data": {
      "application/vnd.jupyter.widget-view+json": {
       "model_id": "57cf017e5e3d48a59549a58f5d06669e",
       "version_major": 2,
       "version_minor": 0
      },
      "text/plain": [
       "README.md:   0%|          | 0.00/665 [00:00<?, ?B/s]"
      ]
     },
     "metadata": {},
     "output_type": "display_data"
    },
    {
     "data": {
      "text/plain": [
       "CommitInfo(commit_url='https://huggingface.co/datasets/Sreenath/million-text-embeddings/commit/4b0da94b53656dfafd0d426dc549af64ecf34e20', commit_message='Upload dataset', commit_description='', oid='4b0da94b53656dfafd0d426dc549af64ecf34e20', pr_url=None, repo_url=RepoUrl('https://huggingface.co/datasets/Sreenath/million-text-embeddings', endpoint='https://huggingface.co', repo_type='dataset', repo_id='Sreenath/million-text-embeddings'), pr_revision=None, pr_num=None)"
      ]
     },
     "execution_count": 6,
     "metadata": {},
     "output_type": "execute_result"
    }
   ],
   "source": [
    "data = {\"text\": texts, \"embedding\": embeddings}\n",
    "dataset = Dataset.from_dict(data)\n",
    "dataset.push_to_hub(\"Sreenath/million-text-embeddings\")"
   ]
  }
 ],
 "metadata": {
  "kernelspec": {
   "display_name": "Python 3 (ipykernel)",
   "language": "python",
   "name": "python3"
  },
  "language_info": {
   "codemirror_mode": {
    "name": "ipython",
    "version": 3
   },
   "file_extension": ".py",
   "mimetype": "text/x-python",
   "name": "python",
   "nbconvert_exporter": "python",
   "pygments_lexer": "ipython3",
   "version": "3.12.7"
  }
 },
 "nbformat": 4,
 "nbformat_minor": 5
}
